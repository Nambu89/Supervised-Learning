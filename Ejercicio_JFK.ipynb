{
 "cells": [
  {
   "cell_type": "markdown",
   "metadata": {},
   "source": [
    "# Importamos las librerías"
   ]
  },
  {
   "cell_type": "code",
   "execution_count": 80,
   "metadata": {},
   "outputs": [],
   "source": [
    "import numpy as np\n",
    "import pandas as pd\n",
    "\n",
    "import matplotlib.pyplot as plt\n",
    "import seaborn as sns\n",
    "from sklearn.preprocessing import LabelEncoder, MinMaxScaler, OneHotEncoder, OrdinalEncoder"
   ]
  },
  {
   "cell_type": "code",
   "execution_count": 81,
   "metadata": {},
   "outputs": [],
   "source": [
    "plt.style.use(\"ggplot\")"
   ]
  },
  {
   "cell_type": "markdown",
   "metadata": {},
   "source": [
    "# Importamos los datos"
   ]
  },
  {
   "cell_type": "code",
   "execution_count": 82,
   "metadata": {},
   "outputs": [],
   "source": [
    "df_1 = pd.read_csv(\"/Users/fernandopradagorge/Documents/Universidad/Master Data Science and AI/Nuclio Projects/Projects/Supervised Learning/Binary-Classifier-JFK-main/JFK_flights_data1.csv\", index_col = 0)"
   ]
  },
  {
   "cell_type": "code",
   "execution_count": 83,
   "metadata": {},
   "outputs": [],
   "source": [
    "df_2 = pd.read_csv(\"/Users/fernandopradagorge/Documents/Universidad/Master Data Science and AI/Nuclio Projects/Projects/Supervised Learning/Binary-Classifier-JFK-main/JFK_flights_data2.csv\", index_col = 0)"
   ]
  },
  {
   "cell_type": "code",
   "execution_count": 84,
   "metadata": {},
   "outputs": [
    {
     "data": {
      "text/plain": [
       "(100000, 15)"
      ]
     },
     "execution_count": 84,
     "metadata": {},
     "output_type": "execute_result"
    }
   ],
   "source": [
    "df_1.shape"
   ]
  },
  {
   "cell_type": "code",
   "execution_count": 85,
   "metadata": {},
   "outputs": [
    {
     "data": {
      "text/html": [
       "<div>\n",
       "<style scoped>\n",
       "    .dataframe tbody tr th:only-of-type {\n",
       "        vertical-align: middle;\n",
       "    }\n",
       "\n",
       "    .dataframe tbody tr th {\n",
       "        vertical-align: top;\n",
       "    }\n",
       "\n",
       "    .dataframe thead th {\n",
       "        text-align: right;\n",
       "    }\n",
       "</style>\n",
       "<table border=\"1\" class=\"dataframe\">\n",
       "  <thead>\n",
       "    <tr style=\"text-align: right;\">\n",
       "      <th></th>\n",
       "      <th>FL_DATE</th>\n",
       "      <th>OP_CARRIER_AIRLINE_ID</th>\n",
       "      <th>TAIL_NUM</th>\n",
       "      <th>ORIGIN</th>\n",
       "      <th>ORIGIN_CITY_NAME</th>\n",
       "      <th>ORIGIN_STATE_NM</th>\n",
       "      <th>DEST</th>\n",
       "      <th>DEST_CITY_NAME</th>\n",
       "      <th>DEST_STATE_NM</th>\n",
       "      <th>CRS_DEP_TIME</th>\n",
       "      <th>TAXI_OUT</th>\n",
       "      <th>CRS_ARR_TIME</th>\n",
       "      <th>ARR_DEL15</th>\n",
       "      <th>CRS_ELAPSED_TIME</th>\n",
       "      <th>DISTANCE</th>\n",
       "    </tr>\n",
       "  </thead>\n",
       "  <tbody>\n",
       "    <tr>\n",
       "      <th>0</th>\n",
       "      <td>2018-02-01</td>\n",
       "      <td>20363.0</td>\n",
       "      <td>N299PQ</td>\n",
       "      <td>BNA</td>\n",
       "      <td>Nashville, TN</td>\n",
       "      <td>Tennessee</td>\n",
       "      <td>JFK</td>\n",
       "      <td>New York, NY</td>\n",
       "      <td>New York</td>\n",
       "      <td>1359</td>\n",
       "      <td>27.0</td>\n",
       "      <td>1719</td>\n",
       "      <td>0.0</td>\n",
       "      <td>140.0</td>\n",
       "      <td>765.0</td>\n",
       "    </tr>\n",
       "  </tbody>\n",
       "</table>\n",
       "</div>"
      ],
      "text/plain": [
       "      FL_DATE  OP_CARRIER_AIRLINE_ID TAIL_NUM ORIGIN ORIGIN_CITY_NAME  \\\n",
       "0  2018-02-01                20363.0   N299PQ    BNA    Nashville, TN   \n",
       "\n",
       "  ORIGIN_STATE_NM DEST DEST_CITY_NAME DEST_STATE_NM  CRS_DEP_TIME  TAXI_OUT  \\\n",
       "0       Tennessee  JFK   New York, NY      New York          1359      27.0   \n",
       "\n",
       "   CRS_ARR_TIME  ARR_DEL15  CRS_ELAPSED_TIME  DISTANCE  \n",
       "0          1719        0.0             140.0     765.0  "
      ]
     },
     "execution_count": 85,
     "metadata": {},
     "output_type": "execute_result"
    }
   ],
   "source": [
    "df_1.head(1)"
   ]
  },
  {
   "cell_type": "code",
   "execution_count": 86,
   "metadata": {},
   "outputs": [
    {
     "data": {
      "text/plain": [
       "(150152, 15)"
      ]
     },
     "execution_count": 86,
     "metadata": {},
     "output_type": "execute_result"
    }
   ],
   "source": [
    "df_2.shape"
   ]
  },
  {
   "cell_type": "code",
   "execution_count": 87,
   "metadata": {},
   "outputs": [
    {
     "data": {
      "text/html": [
       "<div>\n",
       "<style scoped>\n",
       "    .dataframe tbody tr th:only-of-type {\n",
       "        vertical-align: middle;\n",
       "    }\n",
       "\n",
       "    .dataframe tbody tr th {\n",
       "        vertical-align: top;\n",
       "    }\n",
       "\n",
       "    .dataframe thead th {\n",
       "        text-align: right;\n",
       "    }\n",
       "</style>\n",
       "<table border=\"1\" class=\"dataframe\">\n",
       "  <thead>\n",
       "    <tr style=\"text-align: right;\">\n",
       "      <th></th>\n",
       "      <th>FL_DATE</th>\n",
       "      <th>OP_CARRIER_AIRLINE_ID</th>\n",
       "      <th>TAIL_NUM</th>\n",
       "      <th>ORIGIN</th>\n",
       "      <th>ORIGIN_CITY_NAME</th>\n",
       "      <th>ORIGIN_STATE_NM</th>\n",
       "      <th>DEST</th>\n",
       "      <th>DEST_CITY_NAME</th>\n",
       "      <th>DEST_STATE_NM</th>\n",
       "      <th>CRS_DEP_TIME</th>\n",
       "      <th>TAXI_OUT</th>\n",
       "      <th>CRS_ARR_TIME</th>\n",
       "      <th>ARR_DEL15</th>\n",
       "      <th>CRS_ELAPSED_TIME</th>\n",
       "      <th>DISTANCE</th>\n",
       "    </tr>\n",
       "  </thead>\n",
       "  <tbody>\n",
       "    <tr>\n",
       "      <th>100000</th>\n",
       "      <td>2019-08-23</td>\n",
       "      <td>20363.0</td>\n",
       "      <td>N605LR</td>\n",
       "      <td>IND</td>\n",
       "      <td>Indianapolis, IN</td>\n",
       "      <td>Indiana</td>\n",
       "      <td>JFK</td>\n",
       "      <td>New York, NY</td>\n",
       "      <td>New York</td>\n",
       "      <td>1922</td>\n",
       "      <td>13.0</td>\n",
       "      <td>2145</td>\n",
       "      <td>0.0</td>\n",
       "      <td>143.0</td>\n",
       "      <td>665.0</td>\n",
       "    </tr>\n",
       "  </tbody>\n",
       "</table>\n",
       "</div>"
      ],
      "text/plain": [
       "           FL_DATE  OP_CARRIER_AIRLINE_ID TAIL_NUM ORIGIN  ORIGIN_CITY_NAME  \\\n",
       "100000  2019-08-23                20363.0   N605LR    IND  Indianapolis, IN   \n",
       "\n",
       "       ORIGIN_STATE_NM DEST DEST_CITY_NAME DEST_STATE_NM  CRS_DEP_TIME  \\\n",
       "100000         Indiana  JFK   New York, NY      New York          1922   \n",
       "\n",
       "        TAXI_OUT  CRS_ARR_TIME  ARR_DEL15  CRS_ELAPSED_TIME  DISTANCE  \n",
       "100000      13.0          2145        0.0             143.0     665.0  "
      ]
     },
     "execution_count": 87,
     "metadata": {},
     "output_type": "execute_result"
    }
   ],
   "source": [
    "df_2.head(1)"
   ]
  },
  {
   "cell_type": "code",
   "execution_count": 88,
   "metadata": {},
   "outputs": [],
   "source": [
    "df_3 = pd.concat([df_1, df_2], axis = 0, ignore_index = True)"
   ]
  },
  {
   "cell_type": "code",
   "execution_count": 89,
   "metadata": {},
   "outputs": [
    {
     "data": {
      "text/html": [
       "<div>\n",
       "<style scoped>\n",
       "    .dataframe tbody tr th:only-of-type {\n",
       "        vertical-align: middle;\n",
       "    }\n",
       "\n",
       "    .dataframe tbody tr th {\n",
       "        vertical-align: top;\n",
       "    }\n",
       "\n",
       "    .dataframe thead th {\n",
       "        text-align: right;\n",
       "    }\n",
       "</style>\n",
       "<table border=\"1\" class=\"dataframe\">\n",
       "  <thead>\n",
       "    <tr style=\"text-align: right;\">\n",
       "      <th></th>\n",
       "      <th>OP_CARRIER_AIRLINE_ID</th>\n",
       "      <th>CRS_DEP_TIME</th>\n",
       "      <th>TAXI_OUT</th>\n",
       "      <th>CRS_ARR_TIME</th>\n",
       "      <th>ARR_DEL15</th>\n",
       "      <th>CRS_ELAPSED_TIME</th>\n",
       "      <th>DISTANCE</th>\n",
       "    </tr>\n",
       "  </thead>\n",
       "  <tbody>\n",
       "    <tr>\n",
       "      <th>count</th>\n",
       "      <td>237644.000000</td>\n",
       "      <td>250152.000000</td>\n",
       "      <td>232641.000000</td>\n",
       "      <td>250152.000000</td>\n",
       "      <td>250152.000000</td>\n",
       "      <td>250152.000000</td>\n",
       "      <td>250152.000000</td>\n",
       "    </tr>\n",
       "    <tr>\n",
       "      <th>mean</th>\n",
       "      <td>20152.000736</td>\n",
       "      <td>1334.611164</td>\n",
       "      <td>18.189820</td>\n",
       "      <td>1419.131404</td>\n",
       "      <td>0.210400</td>\n",
       "      <td>195.647706</td>\n",
       "      <td>1258.844866</td>\n",
       "    </tr>\n",
       "    <tr>\n",
       "      <th>std</th>\n",
       "      <td>297.881929</td>\n",
       "      <td>529.100385</td>\n",
       "      <td>9.609596</td>\n",
       "      <td>580.986009</td>\n",
       "      <td>0.407594</td>\n",
       "      <td>97.374339</td>\n",
       "      <td>898.116163</td>\n",
       "    </tr>\n",
       "    <tr>\n",
       "      <th>min</th>\n",
       "      <td>19690.000000</td>\n",
       "      <td>3.000000</td>\n",
       "      <td>1.000000</td>\n",
       "      <td>1.000000</td>\n",
       "      <td>0.000000</td>\n",
       "      <td>47.000000</td>\n",
       "      <td>94.000000</td>\n",
       "    </tr>\n",
       "    <tr>\n",
       "      <th>25%</th>\n",
       "      <td>19790.000000</td>\n",
       "      <td>915.000000</td>\n",
       "      <td>12.000000</td>\n",
       "      <td>944.000000</td>\n",
       "      <td>0.000000</td>\n",
       "      <td>109.000000</td>\n",
       "      <td>427.000000</td>\n",
       "    </tr>\n",
       "    <tr>\n",
       "      <th>50%</th>\n",
       "      <td>20363.000000</td>\n",
       "      <td>1258.000000</td>\n",
       "      <td>16.000000</td>\n",
       "      <td>1455.000000</td>\n",
       "      <td>0.000000</td>\n",
       "      <td>167.000000</td>\n",
       "      <td>1028.000000</td>\n",
       "    </tr>\n",
       "    <tr>\n",
       "      <th>75%</th>\n",
       "      <td>20409.000000</td>\n",
       "      <td>1744.000000</td>\n",
       "      <td>21.000000</td>\n",
       "      <td>1914.000000</td>\n",
       "      <td>0.000000</td>\n",
       "      <td>306.000000</td>\n",
       "      <td>2248.000000</td>\n",
       "    </tr>\n",
       "    <tr>\n",
       "      <th>max</th>\n",
       "      <td>21171.000000</td>\n",
       "      <td>2359.000000</td>\n",
       "      <td>166.000000</td>\n",
       "      <td>2400.000000</td>\n",
       "      <td>1.000000</td>\n",
       "      <td>595.000000</td>\n",
       "      <td>4983.000000</td>\n",
       "    </tr>\n",
       "  </tbody>\n",
       "</table>\n",
       "</div>"
      ],
      "text/plain": [
       "       OP_CARRIER_AIRLINE_ID   CRS_DEP_TIME       TAXI_OUT   CRS_ARR_TIME  \\\n",
       "count          237644.000000  250152.000000  232641.000000  250152.000000   \n",
       "mean            20152.000736    1334.611164      18.189820    1419.131404   \n",
       "std               297.881929     529.100385       9.609596     580.986009   \n",
       "min             19690.000000       3.000000       1.000000       1.000000   \n",
       "25%             19790.000000     915.000000      12.000000     944.000000   \n",
       "50%             20363.000000    1258.000000      16.000000    1455.000000   \n",
       "75%             20409.000000    1744.000000      21.000000    1914.000000   \n",
       "max             21171.000000    2359.000000     166.000000    2400.000000   \n",
       "\n",
       "           ARR_DEL15  CRS_ELAPSED_TIME       DISTANCE  \n",
       "count  250152.000000     250152.000000  250152.000000  \n",
       "mean        0.210400        195.647706    1258.844866  \n",
       "std         0.407594         97.374339     898.116163  \n",
       "min         0.000000         47.000000      94.000000  \n",
       "25%         0.000000        109.000000     427.000000  \n",
       "50%         0.000000        167.000000    1028.000000  \n",
       "75%         0.000000        306.000000    2248.000000  \n",
       "max         1.000000        595.000000    4983.000000  "
      ]
     },
     "execution_count": 89,
     "metadata": {},
     "output_type": "execute_result"
    }
   ],
   "source": [
    "df_3.describe()"
   ]
  },
  {
   "cell_type": "code",
   "execution_count": 90,
   "metadata": {},
   "outputs": [
    {
     "name": "stdout",
     "output_type": "stream",
     "text": [
      "<class 'pandas.core.frame.DataFrame'>\n",
      "RangeIndex: 250152 entries, 0 to 250151\n",
      "Columns: 15 entries, FL_DATE to DISTANCE\n",
      "dtypes: float64(5), int64(2), object(8)\n",
      "memory usage: 28.6+ MB\n"
     ]
    }
   ],
   "source": [
    "df_3.info(verbose=False)"
   ]
  },
  {
   "cell_type": "code",
   "execution_count": 91,
   "metadata": {},
   "outputs": [],
   "source": [
    "df_3.reset_index(drop=True, inplace=True)"
   ]
  },
  {
   "cell_type": "markdown",
   "metadata": {},
   "source": [
    "# Visualización de datos"
   ]
  },
  {
   "cell_type": "code",
   "execution_count": 92,
   "metadata": {},
   "outputs": [
    {
     "data": {
      "text/plain": [
       "Index(['FL_DATE', 'OP_CARRIER_AIRLINE_ID', 'TAIL_NUM', 'ORIGIN',\n",
       "       'ORIGIN_CITY_NAME', 'ORIGIN_STATE_NM', 'DEST', 'DEST_CITY_NAME',\n",
       "       'DEST_STATE_NM', 'CRS_DEP_TIME', 'TAXI_OUT', 'CRS_ARR_TIME',\n",
       "       'ARR_DEL15', 'CRS_ELAPSED_TIME', 'DISTANCE'],\n",
       "      dtype='object')"
      ]
     },
     "execution_count": 92,
     "metadata": {},
     "output_type": "execute_result"
    }
   ],
   "source": [
    "df_3.columns"
   ]
  },
  {
   "cell_type": "code",
   "execution_count": 93,
   "metadata": {},
   "outputs": [
    {
     "data": {
      "text/html": [
       "<div>\n",
       "<style scoped>\n",
       "    .dataframe tbody tr th:only-of-type {\n",
       "        vertical-align: middle;\n",
       "    }\n",
       "\n",
       "    .dataframe tbody tr th {\n",
       "        vertical-align: top;\n",
       "    }\n",
       "\n",
       "    .dataframe thead th {\n",
       "        text-align: right;\n",
       "    }\n",
       "</style>\n",
       "<table border=\"1\" class=\"dataframe\">\n",
       "  <thead>\n",
       "    <tr style=\"text-align: right;\">\n",
       "      <th></th>\n",
       "      <th>0</th>\n",
       "      <th>1</th>\n",
       "      <th>2</th>\n",
       "    </tr>\n",
       "  </thead>\n",
       "  <tbody>\n",
       "    <tr>\n",
       "      <th>FL_DATE</th>\n",
       "      <td>2018-02-01</td>\n",
       "      <td>2018-02-01</td>\n",
       "      <td>2018-02-01</td>\n",
       "    </tr>\n",
       "    <tr>\n",
       "      <th>OP_CARRIER_AIRLINE_ID</th>\n",
       "      <td>20363.0</td>\n",
       "      <td>20363.0</td>\n",
       "      <td>20363.0</td>\n",
       "    </tr>\n",
       "    <tr>\n",
       "      <th>TAIL_NUM</th>\n",
       "      <td>N299PQ</td>\n",
       "      <td>N920XJ</td>\n",
       "      <td>N605LR</td>\n",
       "    </tr>\n",
       "    <tr>\n",
       "      <th>ORIGIN</th>\n",
       "      <td>BNA</td>\n",
       "      <td>RDU</td>\n",
       "      <td>BUF</td>\n",
       "    </tr>\n",
       "    <tr>\n",
       "      <th>ORIGIN_CITY_NAME</th>\n",
       "      <td>Nashville, TN</td>\n",
       "      <td>Raleigh/Durham, NC</td>\n",
       "      <td>Buffalo, NY</td>\n",
       "    </tr>\n",
       "    <tr>\n",
       "      <th>ORIGIN_STATE_NM</th>\n",
       "      <td>Tennessee</td>\n",
       "      <td>North Carolina</td>\n",
       "      <td>New York</td>\n",
       "    </tr>\n",
       "    <tr>\n",
       "      <th>DEST</th>\n",
       "      <td>JFK</td>\n",
       "      <td>JFK</td>\n",
       "      <td>JFK</td>\n",
       "    </tr>\n",
       "    <tr>\n",
       "      <th>DEST_CITY_NAME</th>\n",
       "      <td>New York, NY</td>\n",
       "      <td>New York, NY</td>\n",
       "      <td>New York, NY</td>\n",
       "    </tr>\n",
       "    <tr>\n",
       "      <th>DEST_STATE_NM</th>\n",
       "      <td>New York</td>\n",
       "      <td>New York</td>\n",
       "      <td>New York</td>\n",
       "    </tr>\n",
       "    <tr>\n",
       "      <th>CRS_DEP_TIME</th>\n",
       "      <td>1359</td>\n",
       "      <td>1354</td>\n",
       "      <td>1529</td>\n",
       "    </tr>\n",
       "    <tr>\n",
       "      <th>TAXI_OUT</th>\n",
       "      <td>27.0</td>\n",
       "      <td>37.0</td>\n",
       "      <td>21.0</td>\n",
       "    </tr>\n",
       "    <tr>\n",
       "      <th>CRS_ARR_TIME</th>\n",
       "      <td>1719</td>\n",
       "      <td>1541</td>\n",
       "      <td>1709</td>\n",
       "    </tr>\n",
       "    <tr>\n",
       "      <th>ARR_DEL15</th>\n",
       "      <td>0.0</td>\n",
       "      <td>0.0</td>\n",
       "      <td>0.0</td>\n",
       "    </tr>\n",
       "    <tr>\n",
       "      <th>CRS_ELAPSED_TIME</th>\n",
       "      <td>140.0</td>\n",
       "      <td>107.0</td>\n",
       "      <td>100.0</td>\n",
       "    </tr>\n",
       "    <tr>\n",
       "      <th>DISTANCE</th>\n",
       "      <td>765.0</td>\n",
       "      <td>427.0</td>\n",
       "      <td>301.0</td>\n",
       "    </tr>\n",
       "  </tbody>\n",
       "</table>\n",
       "</div>"
      ],
      "text/plain": [
       "                                   0                   1             2\n",
       "FL_DATE                   2018-02-01          2018-02-01    2018-02-01\n",
       "OP_CARRIER_AIRLINE_ID        20363.0             20363.0       20363.0\n",
       "TAIL_NUM                      N299PQ              N920XJ        N605LR\n",
       "ORIGIN                           BNA                 RDU           BUF\n",
       "ORIGIN_CITY_NAME       Nashville, TN  Raleigh/Durham, NC   Buffalo, NY\n",
       "ORIGIN_STATE_NM            Tennessee      North Carolina      New York\n",
       "DEST                             JFK                 JFK           JFK\n",
       "DEST_CITY_NAME          New York, NY        New York, NY  New York, NY\n",
       "DEST_STATE_NM               New York            New York      New York\n",
       "CRS_DEP_TIME                    1359                1354          1529\n",
       "TAXI_OUT                        27.0                37.0          21.0\n",
       "CRS_ARR_TIME                    1719                1541          1709\n",
       "ARR_DEL15                        0.0                 0.0           0.0\n",
       "CRS_ELAPSED_TIME               140.0               107.0         100.0\n",
       "DISTANCE                       765.0               427.0         301.0"
      ]
     },
     "execution_count": 93,
     "metadata": {},
     "output_type": "execute_result"
    }
   ],
   "source": [
    "df_3.head(3).T"
   ]
  },
  {
   "cell_type": "code",
   "execution_count": 94,
   "metadata": {},
   "outputs": [],
   "source": [
    "TARGET = \"ARR_DEL15\""
   ]
  },
  {
   "cell_type": "markdown",
   "metadata": {},
   "source": [
    "# Data Understanding"
   ]
  },
  {
   "cell_type": "markdown",
   "metadata": {},
   "source": [
    "## Estadísticos descriptivos"
   ]
  },
  {
   "cell_type": "code",
   "execution_count": 95,
   "metadata": {},
   "outputs": [
    {
     "data": {
      "text/html": [
       "<div>\n",
       "<style scoped>\n",
       "    .dataframe tbody tr th:only-of-type {\n",
       "        vertical-align: middle;\n",
       "    }\n",
       "\n",
       "    .dataframe tbody tr th {\n",
       "        vertical-align: top;\n",
       "    }\n",
       "\n",
       "    .dataframe thead th {\n",
       "        text-align: right;\n",
       "    }\n",
       "</style>\n",
       "<table border=\"1\" class=\"dataframe\">\n",
       "  <thead>\n",
       "    <tr style=\"text-align: right;\">\n",
       "      <th></th>\n",
       "      <th>count</th>\n",
       "      <th>mean</th>\n",
       "      <th>std</th>\n",
       "      <th>min</th>\n",
       "      <th>25%</th>\n",
       "      <th>50%</th>\n",
       "      <th>75%</th>\n",
       "      <th>max</th>\n",
       "    </tr>\n",
       "  </thead>\n",
       "  <tbody>\n",
       "    <tr>\n",
       "      <th>OP_CARRIER_AIRLINE_ID</th>\n",
       "      <td>237644.0</td>\n",
       "      <td>20152.000736</td>\n",
       "      <td>297.881929</td>\n",
       "      <td>19690.0</td>\n",
       "      <td>19790.0</td>\n",
       "      <td>20363.0</td>\n",
       "      <td>20409.0</td>\n",
       "      <td>21171.0</td>\n",
       "    </tr>\n",
       "    <tr>\n",
       "      <th>CRS_DEP_TIME</th>\n",
       "      <td>250152.0</td>\n",
       "      <td>1334.611164</td>\n",
       "      <td>529.100385</td>\n",
       "      <td>3.0</td>\n",
       "      <td>915.0</td>\n",
       "      <td>1258.0</td>\n",
       "      <td>1744.0</td>\n",
       "      <td>2359.0</td>\n",
       "    </tr>\n",
       "    <tr>\n",
       "      <th>TAXI_OUT</th>\n",
       "      <td>232641.0</td>\n",
       "      <td>18.189820</td>\n",
       "      <td>9.609596</td>\n",
       "      <td>1.0</td>\n",
       "      <td>12.0</td>\n",
       "      <td>16.0</td>\n",
       "      <td>21.0</td>\n",
       "      <td>166.0</td>\n",
       "    </tr>\n",
       "    <tr>\n",
       "      <th>CRS_ARR_TIME</th>\n",
       "      <td>250152.0</td>\n",
       "      <td>1419.131404</td>\n",
       "      <td>580.986009</td>\n",
       "      <td>1.0</td>\n",
       "      <td>944.0</td>\n",
       "      <td>1455.0</td>\n",
       "      <td>1914.0</td>\n",
       "      <td>2400.0</td>\n",
       "    </tr>\n",
       "    <tr>\n",
       "      <th>ARR_DEL15</th>\n",
       "      <td>250152.0</td>\n",
       "      <td>0.210400</td>\n",
       "      <td>0.407594</td>\n",
       "      <td>0.0</td>\n",
       "      <td>0.0</td>\n",
       "      <td>0.0</td>\n",
       "      <td>0.0</td>\n",
       "      <td>1.0</td>\n",
       "    </tr>\n",
       "    <tr>\n",
       "      <th>CRS_ELAPSED_TIME</th>\n",
       "      <td>250152.0</td>\n",
       "      <td>195.647706</td>\n",
       "      <td>97.374339</td>\n",
       "      <td>47.0</td>\n",
       "      <td>109.0</td>\n",
       "      <td>167.0</td>\n",
       "      <td>306.0</td>\n",
       "      <td>595.0</td>\n",
       "    </tr>\n",
       "    <tr>\n",
       "      <th>DISTANCE</th>\n",
       "      <td>250152.0</td>\n",
       "      <td>1258.844866</td>\n",
       "      <td>898.116163</td>\n",
       "      <td>94.0</td>\n",
       "      <td>427.0</td>\n",
       "      <td>1028.0</td>\n",
       "      <td>2248.0</td>\n",
       "      <td>4983.0</td>\n",
       "    </tr>\n",
       "  </tbody>\n",
       "</table>\n",
       "</div>"
      ],
      "text/plain": [
       "                          count          mean         std      min      25%  \\\n",
       "OP_CARRIER_AIRLINE_ID  237644.0  20152.000736  297.881929  19690.0  19790.0   \n",
       "CRS_DEP_TIME           250152.0   1334.611164  529.100385      3.0    915.0   \n",
       "TAXI_OUT               232641.0     18.189820    9.609596      1.0     12.0   \n",
       "CRS_ARR_TIME           250152.0   1419.131404  580.986009      1.0    944.0   \n",
       "ARR_DEL15              250152.0      0.210400    0.407594      0.0      0.0   \n",
       "CRS_ELAPSED_TIME       250152.0    195.647706   97.374339     47.0    109.0   \n",
       "DISTANCE               250152.0   1258.844866  898.116163     94.0    427.0   \n",
       "\n",
       "                           50%      75%      max  \n",
       "OP_CARRIER_AIRLINE_ID  20363.0  20409.0  21171.0  \n",
       "CRS_DEP_TIME            1258.0   1744.0   2359.0  \n",
       "TAXI_OUT                  16.0     21.0    166.0  \n",
       "CRS_ARR_TIME            1455.0   1914.0   2400.0  \n",
       "ARR_DEL15                  0.0      0.0      1.0  \n",
       "CRS_ELAPSED_TIME         167.0    306.0    595.0  \n",
       "DISTANCE                1028.0   2248.0   4983.0  "
      ]
     },
     "execution_count": 95,
     "metadata": {},
     "output_type": "execute_result"
    }
   ],
   "source": [
    "df_3.describe().T"
   ]
  },
  {
   "cell_type": "code",
   "execution_count": 96,
   "metadata": {},
   "outputs": [
    {
     "data": {
      "text/html": [
       "<div>\n",
       "<style scoped>\n",
       "    .dataframe tbody tr th:only-of-type {\n",
       "        vertical-align: middle;\n",
       "    }\n",
       "\n",
       "    .dataframe tbody tr th {\n",
       "        vertical-align: top;\n",
       "    }\n",
       "\n",
       "    .dataframe thead th {\n",
       "        text-align: right;\n",
       "    }\n",
       "</style>\n",
       "<table border=\"1\" class=\"dataframe\">\n",
       "  <thead>\n",
       "    <tr style=\"text-align: right;\">\n",
       "      <th></th>\n",
       "      <th>count</th>\n",
       "      <th>unique</th>\n",
       "      <th>top</th>\n",
       "      <th>freq</th>\n",
       "    </tr>\n",
       "  </thead>\n",
       "  <tbody>\n",
       "    <tr>\n",
       "      <th>FL_DATE</th>\n",
       "      <td>250152</td>\n",
       "      <td>730</td>\n",
       "      <td>2018-07-19</td>\n",
       "      <td>394</td>\n",
       "    </tr>\n",
       "    <tr>\n",
       "      <th>TAIL_NUM</th>\n",
       "      <td>235143</td>\n",
       "      <td>2645</td>\n",
       "      <td>N110AN</td>\n",
       "      <td>761</td>\n",
       "    </tr>\n",
       "    <tr>\n",
       "      <th>ORIGIN</th>\n",
       "      <td>250152</td>\n",
       "      <td>72</td>\n",
       "      <td>LAX</td>\n",
       "      <td>25345</td>\n",
       "    </tr>\n",
       "    <tr>\n",
       "      <th>ORIGIN_CITY_NAME</th>\n",
       "      <td>250152</td>\n",
       "      <td>70</td>\n",
       "      <td>Los Angeles, CA</td>\n",
       "      <td>25345</td>\n",
       "    </tr>\n",
       "    <tr>\n",
       "      <th>ORIGIN_STATE_NM</th>\n",
       "      <td>250152</td>\n",
       "      <td>32</td>\n",
       "      <td>California</td>\n",
       "      <td>51137</td>\n",
       "    </tr>\n",
       "    <tr>\n",
       "      <th>DEST</th>\n",
       "      <td>250152</td>\n",
       "      <td>1</td>\n",
       "      <td>JFK</td>\n",
       "      <td>250152</td>\n",
       "    </tr>\n",
       "    <tr>\n",
       "      <th>DEST_CITY_NAME</th>\n",
       "      <td>250152</td>\n",
       "      <td>1</td>\n",
       "      <td>New York, NY</td>\n",
       "      <td>250152</td>\n",
       "    </tr>\n",
       "    <tr>\n",
       "      <th>DEST_STATE_NM</th>\n",
       "      <td>250152</td>\n",
       "      <td>1</td>\n",
       "      <td>New York</td>\n",
       "      <td>250152</td>\n",
       "    </tr>\n",
       "  </tbody>\n",
       "</table>\n",
       "</div>"
      ],
      "text/plain": [
       "                   count unique              top    freq\n",
       "FL_DATE           250152    730       2018-07-19     394\n",
       "TAIL_NUM          235143   2645           N110AN     761\n",
       "ORIGIN            250152     72              LAX   25345\n",
       "ORIGIN_CITY_NAME  250152     70  Los Angeles, CA   25345\n",
       "ORIGIN_STATE_NM   250152     32       California   51137\n",
       "DEST              250152      1              JFK  250152\n",
       "DEST_CITY_NAME    250152      1     New York, NY  250152\n",
       "DEST_STATE_NM     250152      1         New York  250152"
      ]
     },
     "execution_count": 96,
     "metadata": {},
     "output_type": "execute_result"
    }
   ],
   "source": [
    "df_3.describe(include=[\"object\"]).T"
   ]
  },
  {
   "cell_type": "markdown",
   "metadata": {},
   "source": [
    "# Número de Nulos"
   ]
  },
  {
   "cell_type": "code",
   "execution_count": 97,
   "metadata": {},
   "outputs": [
    {
     "data": {
      "text/plain": [
       "FL_DATE                 0\n",
       "TAIL_NUM            15009\n",
       "ORIGIN                  0\n",
       "ORIGIN_CITY_NAME        0\n",
       "ORIGIN_STATE_NM         0\n",
       "DEST                    0\n",
       "DEST_CITY_NAME          0\n",
       "DEST_STATE_NM           0\n",
       "dtype: int64"
      ]
     },
     "execution_count": 97,
     "metadata": {},
     "output_type": "execute_result"
    }
   ],
   "source": [
    "df_3.select_dtypes(include=[\"object\"]).isnull().sum()"
   ]
  },
  {
   "cell_type": "code",
   "execution_count": 98,
   "metadata": {},
   "outputs": [
    {
     "data": {
      "text/plain": [
       "OP_CARRIER_AIRLINE_ID    12508\n",
       "CRS_DEP_TIME                 0\n",
       "TAXI_OUT                 17511\n",
       "CRS_ARR_TIME                 0\n",
       "ARR_DEL15                    0\n",
       "CRS_ELAPSED_TIME             0\n",
       "DISTANCE                     0\n",
       "dtype: int64"
      ]
     },
     "execution_count": 98,
     "metadata": {},
     "output_type": "execute_result"
    }
   ],
   "source": [
    "df_3.select_dtypes(exclude=[\"object\"]).isnull().sum()"
   ]
  },
  {
   "cell_type": "markdown",
   "metadata": {},
   "source": [
    "# Distribución del TARGET"
   ]
  },
  {
   "cell_type": "code",
   "execution_count": 99,
   "metadata": {},
   "outputs": [
    {
     "data": {
      "text/plain": [
       "0.21040007675333397"
      ]
     },
     "execution_count": 99,
     "metadata": {},
     "output_type": "execute_result"
    }
   ],
   "source": [
    "df_3[TARGET].mean()"
   ]
  },
  {
   "cell_type": "markdown",
   "metadata": {},
   "source": [
    "# Exploración de variables"
   ]
  },
  {
   "cell_type": "markdown",
   "metadata": {},
   "source": [
    "## Fechas"
   ]
  },
  {
   "cell_type": "code",
   "execution_count": 100,
   "metadata": {},
   "outputs": [],
   "source": [
    "LAX_df = df_3[df_3[\"ORIGIN\"] == \"LAX\"]"
   ]
  },
  {
   "cell_type": "code",
   "execution_count": 101,
   "metadata": {},
   "outputs": [
    {
     "data": {
      "text/html": [
       "<div>\n",
       "<style scoped>\n",
       "    .dataframe tbody tr th:only-of-type {\n",
       "        vertical-align: middle;\n",
       "    }\n",
       "\n",
       "    .dataframe tbody tr th {\n",
       "        vertical-align: top;\n",
       "    }\n",
       "\n",
       "    .dataframe thead th {\n",
       "        text-align: right;\n",
       "    }\n",
       "</style>\n",
       "<table border=\"1\" class=\"dataframe\">\n",
       "  <thead>\n",
       "    <tr style=\"text-align: right;\">\n",
       "      <th></th>\n",
       "      <th>FL_DATE</th>\n",
       "      <th>OP_CARRIER_AIRLINE_ID</th>\n",
       "      <th>TAIL_NUM</th>\n",
       "      <th>ORIGIN</th>\n",
       "      <th>ORIGIN_CITY_NAME</th>\n",
       "      <th>ORIGIN_STATE_NM</th>\n",
       "      <th>DEST</th>\n",
       "      <th>DEST_CITY_NAME</th>\n",
       "      <th>DEST_STATE_NM</th>\n",
       "      <th>CRS_DEP_TIME</th>\n",
       "      <th>TAXI_OUT</th>\n",
       "      <th>CRS_ARR_TIME</th>\n",
       "      <th>ARR_DEL15</th>\n",
       "      <th>CRS_ELAPSED_TIME</th>\n",
       "      <th>DISTANCE</th>\n",
       "    </tr>\n",
       "  </thead>\n",
       "  <tbody>\n",
       "    <tr>\n",
       "      <th>34</th>\n",
       "      <td>2018-02-01</td>\n",
       "      <td>19805.0</td>\n",
       "      <td>N104NN</td>\n",
       "      <td>LAX</td>\n",
       "      <td>Los Angeles, CA</td>\n",
       "      <td>California</td>\n",
       "      <td>JFK</td>\n",
       "      <td>New York, NY</td>\n",
       "      <td>New York</td>\n",
       "      <td>1530</td>\n",
       "      <td>40.0</td>\n",
       "      <td>2359</td>\n",
       "      <td>1.0</td>\n",
       "      <td>329.0</td>\n",
       "      <td>2475.0</td>\n",
       "    </tr>\n",
       "  </tbody>\n",
       "</table>\n",
       "</div>"
      ],
      "text/plain": [
       "       FL_DATE  OP_CARRIER_AIRLINE_ID TAIL_NUM ORIGIN ORIGIN_CITY_NAME  \\\n",
       "34  2018-02-01                19805.0   N104NN    LAX  Los Angeles, CA   \n",
       "\n",
       "   ORIGIN_STATE_NM DEST DEST_CITY_NAME DEST_STATE_NM  CRS_DEP_TIME  TAXI_OUT  \\\n",
       "34      California  JFK   New York, NY      New York          1530      40.0   \n",
       "\n",
       "    CRS_ARR_TIME  ARR_DEL15  CRS_ELAPSED_TIME  DISTANCE  \n",
       "34          2359        1.0             329.0    2475.0  "
      ]
     },
     "execution_count": 101,
     "metadata": {},
     "output_type": "execute_result"
    }
   ],
   "source": [
    "LAX_df.head(1)"
   ]
  },
  {
   "cell_type": "code",
   "execution_count": 102,
   "metadata": {},
   "outputs": [],
   "source": [
    "LAX_df_dia = LAX_df[[\"FL_DATE\", TARGET]].groupby(\"FL_DATE\").mean()"
   ]
  },
  {
   "cell_type": "code",
   "execution_count": 103,
   "metadata": {},
   "outputs": [
    {
     "data": {
      "text/html": [
       "<div>\n",
       "<style scoped>\n",
       "    .dataframe tbody tr th:only-of-type {\n",
       "        vertical-align: middle;\n",
       "    }\n",
       "\n",
       "    .dataframe tbody tr th {\n",
       "        vertical-align: top;\n",
       "    }\n",
       "\n",
       "    .dataframe thead th {\n",
       "        text-align: right;\n",
       "    }\n",
       "</style>\n",
       "<table border=\"1\" class=\"dataframe\">\n",
       "  <thead>\n",
       "    <tr style=\"text-align: right;\">\n",
       "      <th></th>\n",
       "      <th>ARR_DEL15</th>\n",
       "    </tr>\n",
       "    <tr>\n",
       "      <th>FL_DATE</th>\n",
       "      <th></th>\n",
       "    </tr>\n",
       "  </thead>\n",
       "  <tbody>\n",
       "    <tr>\n",
       "      <th>2018-01-01</th>\n",
       "      <td>0.322581</td>\n",
       "    </tr>\n",
       "    <tr>\n",
       "      <th>2018-01-02</th>\n",
       "      <td>0.371429</td>\n",
       "    </tr>\n",
       "    <tr>\n",
       "      <th>2018-01-03</th>\n",
       "      <td>0.107143</td>\n",
       "    </tr>\n",
       "    <tr>\n",
       "      <th>2018-01-04</th>\n",
       "      <td>0.500000</td>\n",
       "    </tr>\n",
       "    <tr>\n",
       "      <th>2018-01-05</th>\n",
       "      <td>0.724138</td>\n",
       "    </tr>\n",
       "    <tr>\n",
       "      <th>2018-01-06</th>\n",
       "      <td>0.636364</td>\n",
       "    </tr>\n",
       "    <tr>\n",
       "      <th>2018-01-07</th>\n",
       "      <td>0.694444</td>\n",
       "    </tr>\n",
       "    <tr>\n",
       "      <th>2018-01-08</th>\n",
       "      <td>0.485714</td>\n",
       "    </tr>\n",
       "    <tr>\n",
       "      <th>2018-01-09</th>\n",
       "      <td>0.135135</td>\n",
       "    </tr>\n",
       "    <tr>\n",
       "      <th>2018-01-10</th>\n",
       "      <td>0.054054</td>\n",
       "    </tr>\n",
       "    <tr>\n",
       "      <th>2018-01-11</th>\n",
       "      <td>0.081081</td>\n",
       "    </tr>\n",
       "    <tr>\n",
       "      <th>2018-01-12</th>\n",
       "      <td>0.666667</td>\n",
       "    </tr>\n",
       "    <tr>\n",
       "      <th>2018-01-13</th>\n",
       "      <td>0.090909</td>\n",
       "    </tr>\n",
       "    <tr>\n",
       "      <th>2018-01-14</th>\n",
       "      <td>0.161290</td>\n",
       "    </tr>\n",
       "    <tr>\n",
       "      <th>2018-01-15</th>\n",
       "      <td>0.189189</td>\n",
       "    </tr>\n",
       "  </tbody>\n",
       "</table>\n",
       "</div>"
      ],
      "text/plain": [
       "            ARR_DEL15\n",
       "FL_DATE              \n",
       "2018-01-01   0.322581\n",
       "2018-01-02   0.371429\n",
       "2018-01-03   0.107143\n",
       "2018-01-04   0.500000\n",
       "2018-01-05   0.724138\n",
       "2018-01-06   0.636364\n",
       "2018-01-07   0.694444\n",
       "2018-01-08   0.485714\n",
       "2018-01-09   0.135135\n",
       "2018-01-10   0.054054\n",
       "2018-01-11   0.081081\n",
       "2018-01-12   0.666667\n",
       "2018-01-13   0.090909\n",
       "2018-01-14   0.161290\n",
       "2018-01-15   0.189189"
      ]
     },
     "execution_count": 103,
     "metadata": {},
     "output_type": "execute_result"
    }
   ],
   "source": [
    "LAX_df_dia.head(15)"
   ]
  },
  {
   "cell_type": "code",
   "execution_count": 104,
   "metadata": {},
   "outputs": [
    {
     "data": {
      "text/plain": [
       "Index(['2018-01-01', '2018-01-02', '2018-01-03', '2018-01-04', '2018-01-05',\n",
       "       '2018-01-06', '2018-01-07', '2018-01-08', '2018-01-09', '2018-01-10',\n",
       "       ...\n",
       "       '2019-12-22', '2019-12-23', '2019-12-24', '2019-12-25', '2019-12-26',\n",
       "       '2019-12-27', '2019-12-28', '2019-12-29', '2019-12-30', '2019-12-31'],\n",
       "      dtype='object', name='FL_DATE', length=730)"
      ]
     },
     "execution_count": 104,
     "metadata": {},
     "output_type": "execute_result"
    }
   ],
   "source": [
    "LAX_df_dia.index"
   ]
  },
  {
   "cell_type": "code",
   "execution_count": 105,
   "metadata": {},
   "outputs": [],
   "source": [
    "LAX_df_dia.index = pd.to_datetime(LAX_df_dia.index)"
   ]
  },
  {
   "cell_type": "code",
   "execution_count": 106,
   "metadata": {},
   "outputs": [
    {
     "data": {
      "text/plain": [
       "<Axes: xlabel='FL_DATE'>"
      ]
     },
     "execution_count": 106,
     "metadata": {},
     "output_type": "execute_result"
    },
    {
     "data": {
      "image/png": "[encoded data removed]",
      "text/plain": [
       "<Figure size 640x480 with 1 Axes>"
      ]
     },
     "metadata": {},
     "output_type": "display_data"
    }
   ],
   "source": [
    "LAX_df_dia[TARGET].plot()"
   ]
  },
  {
   "cell_type": "code",
   "execution_count": 107,
   "metadata": {},
   "outputs": [],
   "source": [
    "media_retrasos_semana = LAX_df_dia[TARGET].resample(\"M\").mean()"
   ]
  },
  {
   "cell_type": "code",
   "execution_count": 108,
   "metadata": {},
   "outputs": [
    {
     "data": {
      "text/plain": [
       "<Axes: xlabel='FL_DATE'>"
      ]
     },
     "execution_count": 108,
     "metadata": {},
     "output_type": "execute_result"
    },
    {
     "data": {
      "image/png": "[encoded data removed]",
      "text/plain": [
       "<Figure size 640x480 with 1 Axes>"
      ]
     },
     "metadata": {},
     "output_type": "display_data"
    }
   ],
   "source": [
    "media_retrasos_semana.plot()"
   ]
  },
  {
   "cell_type": "code",
   "execution_count": 109,
   "metadata": {},
   "outputs": [],
   "source": [
    "#Conclusiones:\n",
    "\n",
    "#Verano y navidad hay mas retrasos\n",
    "#Febrero es un mes con pocos retrasos"
   ]
  },
  {
   "cell_type": "code",
   "execution_count": 110,
   "metadata": {},
   "outputs": [],
   "source": [
    "#Data preparation:\n",
    "\n",
    "#Extraer mes, año, día, trimestre, semana"
   ]
  },
  {
   "cell_type": "markdown",
   "metadata": {},
   "source": [
    "# Análisis Variables Numéricas"
   ]
  },
  {
   "cell_type": "code",
   "execution_count": 111,
   "metadata": {},
   "outputs": [
    {
     "data": {
      "text/plain": [
       "<Axes: ylabel='Frequency'>"
      ]
     },
     "execution_count": 111,
     "metadata": {},
     "output_type": "execute_result"
    },
    {
     "data": {
      "image/png": "[encoded data removed]",
      "text/plain": [
       "<Figure size 640x480 with 1 Axes>"
      ]
     },
     "metadata": {},
     "output_type": "display_data"
    }
   ],
   "source": [
    "#Data Preparation\n",
    "df_3[\"TAXI_OUT\"].plot(kind=\"hist\", bins = 50)"
   ]
  },
  {
   "cell_type": "code",
   "execution_count": 112,
   "metadata": {},
   "outputs": [],
   "source": [
    "#Como se relaciona la variable target. ¿Es informativa?"
   ]
  },
  {
   "cell_type": "code",
   "execution_count": 113,
   "metadata": {},
   "outputs": [
    {
     "data": {
      "text/plain": [
       "<Axes: xlabel='ARR_DEL15', ylabel='TAXI_OUT'>"
      ]
     },
     "execution_count": 113,
     "metadata": {},
     "output_type": "execute_result"
    },
    {
     "data": {
      "image/png": "[encoded data removed]",
      "text/plain": [
       "<Figure size 640x480 with 1 Axes>"
      ]
     },
     "metadata": {},
     "output_type": "display_data"
    }
   ],
   "source": [
    "sns.boxplot(data = df_3, x = TARGET, y = \"TAXI_OUT\")"
   ]
  },
  {
   "cell_type": "code",
   "execution_count": 114,
   "metadata": {},
   "outputs": [
    {
     "data": {
      "text/plain": [
       "<Axes: ylabel='Density'>"
      ]
     },
     "execution_count": 114,
     "metadata": {},
     "output_type": "execute_result"
    },
    {
     "data": {
      "image/png": "[encoded data removed]",
      "text/plain": [
       "<Figure size 640x480 with 1 Axes>"
      ]
     },
     "metadata": {},
     "output_type": "display_data"
    }
   ],
   "source": [
    "df_3[df_3[TARGET] == 0][\"TAXI_OUT\"].plot(kind=\"density\", alpha=.5)\n",
    "df_3[df_3[TARGET] == 1][\"TAXI_OUT\"].plot(kind=\"density\", alpha=.5)"
   ]
  },
  {
   "cell_type": "code",
   "execution_count": 115,
   "metadata": {},
   "outputs": [],
   "source": [
    "#Conclusiones:\n",
    "#En \"TAXI_OUT\" bajo, normalmente no hay retrasos en el vuelo.\n",
    "#En \"TAXI_OUT\" alto, normalmente si los hay."
   ]
  },
  {
   "cell_type": "code",
   "execution_count": 116,
   "metadata": {},
   "outputs": [],
   "source": [
    "#Transofrmaciones: Nulos\n",
    "#Vamos a utilizar de base un algoritrmo s¡mbolista. Por lo tano, metemos como valor extremo -1"
   ]
  },
  {
   "cell_type": "markdown",
   "metadata": {},
   "source": [
    "# Variables Categóricas"
   ]
  },
  {
   "cell_type": "code",
   "execution_count": 117,
   "metadata": {},
   "outputs": [
    {
     "data": {
      "text/html": [
       "<div>\n",
       "<style scoped>\n",
       "    .dataframe tbody tr th:only-of-type {\n",
       "        vertical-align: middle;\n",
       "    }\n",
       "\n",
       "    .dataframe tbody tr th {\n",
       "        vertical-align: top;\n",
       "    }\n",
       "\n",
       "    .dataframe thead tr th {\n",
       "        text-align: left;\n",
       "    }\n",
       "\n",
       "    .dataframe thead tr:last-of-type th {\n",
       "        text-align: right;\n",
       "    }\n",
       "</style>\n",
       "<table border=\"1\" class=\"dataframe\">\n",
       "  <thead>\n",
       "    <tr>\n",
       "      <th></th>\n",
       "      <th>count</th>\n",
       "      <th>sum</th>\n",
       "      <th>mean</th>\n",
       "    </tr>\n",
       "    <tr>\n",
       "      <th></th>\n",
       "      <th>ARR_DEL15</th>\n",
       "      <th>ARR_DEL15</th>\n",
       "      <th>ARR_DEL15</th>\n",
       "    </tr>\n",
       "    <tr>\n",
       "      <th>ORIGIN</th>\n",
       "      <th></th>\n",
       "      <th></th>\n",
       "      <th></th>\n",
       "    </tr>\n",
       "  </thead>\n",
       "  <tbody>\n",
       "    <tr>\n",
       "      <th>IAH</th>\n",
       "      <td>192</td>\n",
       "      <td>71.0</td>\n",
       "      <td>0.369792</td>\n",
       "    </tr>\n",
       "    <tr>\n",
       "      <th>ORD</th>\n",
       "      <td>5647</td>\n",
       "      <td>1705.0</td>\n",
       "      <td>0.301930</td>\n",
       "    </tr>\n",
       "    <tr>\n",
       "      <th>HNL</th>\n",
       "      <td>754</td>\n",
       "      <td>222.0</td>\n",
       "      <td>0.294430</td>\n",
       "    </tr>\n",
       "    <tr>\n",
       "      <th>HOU</th>\n",
       "      <td>648</td>\n",
       "      <td>189.0</td>\n",
       "      <td>0.291667</td>\n",
       "    </tr>\n",
       "    <tr>\n",
       "      <th>ACK</th>\n",
       "      <td>919</td>\n",
       "      <td>263.0</td>\n",
       "      <td>0.286181</td>\n",
       "    </tr>\n",
       "    <tr>\n",
       "      <th>EGE</th>\n",
       "      <td>161</td>\n",
       "      <td>46.0</td>\n",
       "      <td>0.285714</td>\n",
       "    </tr>\n",
       "    <tr>\n",
       "      <th>HYA</th>\n",
       "      <td>171</td>\n",
       "      <td>47.0</td>\n",
       "      <td>0.274854</td>\n",
       "    </tr>\n",
       "    <tr>\n",
       "      <th>PHL</th>\n",
       "      <td>851</td>\n",
       "      <td>233.0</td>\n",
       "      <td>0.273796</td>\n",
       "    </tr>\n",
       "    <tr>\n",
       "      <th>MVY</th>\n",
       "      <td>405</td>\n",
       "      <td>110.0</td>\n",
       "      <td>0.271605</td>\n",
       "    </tr>\n",
       "    <tr>\n",
       "      <th>DFW</th>\n",
       "      <td>3231</td>\n",
       "      <td>873.0</td>\n",
       "      <td>0.270195</td>\n",
       "    </tr>\n",
       "  </tbody>\n",
       "</table>\n",
       "</div>"
      ],
      "text/plain": [
       "           count       sum      mean\n",
       "       ARR_DEL15 ARR_DEL15 ARR_DEL15\n",
       "ORIGIN                              \n",
       "IAH          192      71.0  0.369792\n",
       "ORD         5647    1705.0  0.301930\n",
       "HNL          754     222.0  0.294430\n",
       "HOU          648     189.0  0.291667\n",
       "ACK          919     263.0  0.286181\n",
       "EGE          161      46.0  0.285714\n",
       "HYA          171      47.0  0.274854\n",
       "PHL          851     233.0  0.273796\n",
       "MVY          405     110.0  0.271605\n",
       "DFW         3231     873.0  0.270195"
      ]
     },
     "execution_count": 117,
     "metadata": {},
     "output_type": "execute_result"
    }
   ],
   "source": [
    "df_3.pivot_table(index=\"ORIGIN\", values=TARGET, aggfunc=[\"count\", \"sum\", \"mean\"]).sort_values(by=[(\"mean\", \"ARR_DEL15\")], ascending=False).head(10)"
   ]
  },
  {
   "cell_type": "code",
   "execution_count": 118,
   "metadata": {},
   "outputs": [],
   "source": [
    "#Conclusión:\n",
    "#El aeropuerto IAH es el que mas se retrasa por una media del 37% que contrasta con el 21% de media.\n",
    "#Es más importane ell aeropuerto de ORD porque tiene una media de retrasos del 30% y afecta a muchos mas vuelos."
   ]
  },
  {
   "cell_type": "code",
   "execution_count": 119,
   "metadata": {},
   "outputs": [
    {
     "data": {
      "text/html": [
       "<div>\n",
       "<style scoped>\n",
       "    .dataframe tbody tr th:only-of-type {\n",
       "        vertical-align: middle;\n",
       "    }\n",
       "\n",
       "    .dataframe tbody tr th {\n",
       "        vertical-align: top;\n",
       "    }\n",
       "\n",
       "    .dataframe thead tr th {\n",
       "        text-align: left;\n",
       "    }\n",
       "\n",
       "    .dataframe thead tr:last-of-type th {\n",
       "        text-align: right;\n",
       "    }\n",
       "</style>\n",
       "<table border=\"1\" class=\"dataframe\">\n",
       "  <thead>\n",
       "    <tr>\n",
       "      <th></th>\n",
       "      <th>count</th>\n",
       "      <th>sum</th>\n",
       "      <th>mean</th>\n",
       "    </tr>\n",
       "    <tr>\n",
       "      <th></th>\n",
       "      <th>ARR_DEL15</th>\n",
       "      <th>ARR_DEL15</th>\n",
       "      <th>ARR_DEL15</th>\n",
       "    </tr>\n",
       "    <tr>\n",
       "      <th>ORIGIN</th>\n",
       "      <th></th>\n",
       "      <th></th>\n",
       "      <th></th>\n",
       "    </tr>\n",
       "  </thead>\n",
       "  <tbody>\n",
       "    <tr>\n",
       "      <th>ROC</th>\n",
       "      <td>4181</td>\n",
       "      <td>740.0</td>\n",
       "      <td>0.176991</td>\n",
       "    </tr>\n",
       "    <tr>\n",
       "      <th>LAS</th>\n",
       "      <td>7377</td>\n",
       "      <td>1258.0</td>\n",
       "      <td>0.170530</td>\n",
       "    </tr>\n",
       "    <tr>\n",
       "      <th>MSP</th>\n",
       "      <td>2806</td>\n",
       "      <td>471.0</td>\n",
       "      <td>0.167855</td>\n",
       "    </tr>\n",
       "    <tr>\n",
       "      <th>ORH</th>\n",
       "      <td>577</td>\n",
       "      <td>96.0</td>\n",
       "      <td>0.166378</td>\n",
       "    </tr>\n",
       "    <tr>\n",
       "      <th>PDX</th>\n",
       "      <td>2528</td>\n",
       "      <td>405.0</td>\n",
       "      <td>0.160206</td>\n",
       "    </tr>\n",
       "    <tr>\n",
       "      <th>BGR</th>\n",
       "      <td>442</td>\n",
       "      <td>67.0</td>\n",
       "      <td>0.151584</td>\n",
       "    </tr>\n",
       "    <tr>\n",
       "      <th>SMF</th>\n",
       "      <td>684</td>\n",
       "      <td>101.0</td>\n",
       "      <td>0.147661</td>\n",
       "    </tr>\n",
       "    <tr>\n",
       "      <th>STT</th>\n",
       "      <td>478</td>\n",
       "      <td>65.0</td>\n",
       "      <td>0.135983</td>\n",
       "    </tr>\n",
       "    <tr>\n",
       "      <th>ONT</th>\n",
       "      <td>465</td>\n",
       "      <td>56.0</td>\n",
       "      <td>0.120430</td>\n",
       "    </tr>\n",
       "    <tr>\n",
       "      <th>SAT</th>\n",
       "      <td>994</td>\n",
       "      <td>84.0</td>\n",
       "      <td>0.084507</td>\n",
       "    </tr>\n",
       "  </tbody>\n",
       "</table>\n",
       "</div>"
      ],
      "text/plain": [
       "           count       sum      mean\n",
       "       ARR_DEL15 ARR_DEL15 ARR_DEL15\n",
       "ORIGIN                              \n",
       "ROC         4181     740.0  0.176991\n",
       "LAS         7377    1258.0  0.170530\n",
       "MSP         2806     471.0  0.167855\n",
       "ORH          577      96.0  0.166378\n",
       "PDX         2528     405.0  0.160206\n",
       "BGR          442      67.0  0.151584\n",
       "SMF          684     101.0  0.147661\n",
       "STT          478      65.0  0.135983\n",
       "ONT          465      56.0  0.120430\n",
       "SAT          994      84.0  0.084507"
      ]
     },
     "execution_count": 119,
     "metadata": {},
     "output_type": "execute_result"
    }
   ],
   "source": [
    "df_3.pivot_table(index=\"ORIGIN\", values=TARGET, aggfunc=[\"count\", \"sum\", \"mean\"]).sort_values(by=[(\"mean\", \"ARR_DEL15\")], ascending=False).tail(10)"
   ]
  },
  {
   "cell_type": "markdown",
   "metadata": {},
   "source": [
    "# Data Preparation"
   ]
  },
  {
   "cell_type": "markdown",
   "metadata": {},
   "source": [
    "## Limpieza de atributos"
   ]
  },
  {
   "cell_type": "markdown",
   "metadata": {},
   "source": [
    "### Transformación de tipos"
   ]
  },
  {
   "cell_type": "markdown",
   "metadata": {},
   "source": [
    "#### Numéricas que son categóricas"
   ]
  },
  {
   "cell_type": "code",
   "execution_count": 120,
   "metadata": {},
   "outputs": [],
   "source": [
    "df_3[\"AEROLINEA\"] = df_3[\"OP_CARRIER_AIRLINE_ID\"].astype(object)"
   ]
  },
  {
   "cell_type": "code",
   "execution_count": 121,
   "metadata": {},
   "outputs": [
    {
     "data": {
      "text/html": [
       "<div>\n",
       "<style scoped>\n",
       "    .dataframe tbody tr th:only-of-type {\n",
       "        vertical-align: middle;\n",
       "    }\n",
       "\n",
       "    .dataframe tbody tr th {\n",
       "        vertical-align: top;\n",
       "    }\n",
       "\n",
       "    .dataframe thead th {\n",
       "        text-align: right;\n",
       "    }\n",
       "</style>\n",
       "<table border=\"1\" class=\"dataframe\">\n",
       "  <thead>\n",
       "    <tr style=\"text-align: right;\">\n",
       "      <th></th>\n",
       "      <th>count</th>\n",
       "      <th>unique</th>\n",
       "      <th>top</th>\n",
       "      <th>freq</th>\n",
       "    </tr>\n",
       "  </thead>\n",
       "  <tbody>\n",
       "    <tr>\n",
       "      <th>FL_DATE</th>\n",
       "      <td>250152</td>\n",
       "      <td>730</td>\n",
       "      <td>2018-07-19</td>\n",
       "      <td>394</td>\n",
       "    </tr>\n",
       "    <tr>\n",
       "      <th>TAIL_NUM</th>\n",
       "      <td>235143</td>\n",
       "      <td>2645</td>\n",
       "      <td>N110AN</td>\n",
       "      <td>761</td>\n",
       "    </tr>\n",
       "    <tr>\n",
       "      <th>ORIGIN</th>\n",
       "      <td>250152</td>\n",
       "      <td>72</td>\n",
       "      <td>LAX</td>\n",
       "      <td>25345</td>\n",
       "    </tr>\n",
       "    <tr>\n",
       "      <th>ORIGIN_CITY_NAME</th>\n",
       "      <td>250152</td>\n",
       "      <td>70</td>\n",
       "      <td>Los Angeles, CA</td>\n",
       "      <td>25345</td>\n",
       "    </tr>\n",
       "    <tr>\n",
       "      <th>ORIGIN_STATE_NM</th>\n",
       "      <td>250152</td>\n",
       "      <td>32</td>\n",
       "      <td>California</td>\n",
       "      <td>51137</td>\n",
       "    </tr>\n",
       "    <tr>\n",
       "      <th>DEST</th>\n",
       "      <td>250152</td>\n",
       "      <td>1</td>\n",
       "      <td>JFK</td>\n",
       "      <td>250152</td>\n",
       "    </tr>\n",
       "    <tr>\n",
       "      <th>DEST_CITY_NAME</th>\n",
       "      <td>250152</td>\n",
       "      <td>1</td>\n",
       "      <td>New York, NY</td>\n",
       "      <td>250152</td>\n",
       "    </tr>\n",
       "    <tr>\n",
       "      <th>DEST_STATE_NM</th>\n",
       "      <td>250152</td>\n",
       "      <td>1</td>\n",
       "      <td>New York</td>\n",
       "      <td>250152</td>\n",
       "    </tr>\n",
       "    <tr>\n",
       "      <th>AEROLINEA</th>\n",
       "      <td>237644.0</td>\n",
       "      <td>11.0</td>\n",
       "      <td>20409.0</td>\n",
       "      <td>78587.0</td>\n",
       "    </tr>\n",
       "  </tbody>\n",
       "</table>\n",
       "</div>"
      ],
      "text/plain": [
       "                     count unique              top     freq\n",
       "FL_DATE             250152    730       2018-07-19      394\n",
       "TAIL_NUM            235143   2645           N110AN      761\n",
       "ORIGIN              250152     72              LAX    25345\n",
       "ORIGIN_CITY_NAME    250152     70  Los Angeles, CA    25345\n",
       "ORIGIN_STATE_NM     250152     32       California    51137\n",
       "DEST                250152      1              JFK   250152\n",
       "DEST_CITY_NAME      250152      1     New York, NY   250152\n",
       "DEST_STATE_NM       250152      1         New York   250152\n",
       "AEROLINEA         237644.0   11.0          20409.0  78587.0"
      ]
     },
     "execution_count": 121,
     "metadata": {},
     "output_type": "execute_result"
    }
   ],
   "source": [
    "df_3.select_dtypes(include=[\"object\"]).describe().T"
   ]
  },
  {
   "cell_type": "code",
   "execution_count": 122,
   "metadata": {},
   "outputs": [],
   "source": [
    "df_3.drop(\"OP_CARRIER_AIRLINE_ID\", axis=1, inplace=True)"
   ]
  },
  {
   "cell_type": "markdown",
   "metadata": {},
   "source": [
    "#### Imputación de Nulos"
   ]
  },
  {
   "cell_type": "markdown",
   "metadata": {},
   "source": [
    "##### Categóricas"
   ]
  },
  {
   "cell_type": "code",
   "execution_count": 123,
   "metadata": {},
   "outputs": [
    {
     "data": {
      "text/plain": [
       "FL_DATE                 0\n",
       "TAIL_NUM            15009\n",
       "ORIGIN                  0\n",
       "ORIGIN_CITY_NAME        0\n",
       "ORIGIN_STATE_NM         0\n",
       "DEST                    0\n",
       "DEST_CITY_NAME          0\n",
       "DEST_STATE_NM           0\n",
       "AEROLINEA           12508\n",
       "dtype: int64"
      ]
     },
     "execution_count": 123,
     "metadata": {},
     "output_type": "execute_result"
    }
   ],
   "source": [
    "df_3.select_dtypes(include=[\"object\"]).isnull().sum()"
   ]
  },
  {
   "cell_type": "code",
   "execution_count": 124,
   "metadata": {},
   "outputs": [],
   "source": [
    "# TAIL_NUM"
   ]
  },
  {
   "cell_type": "code",
   "execution_count": 125,
   "metadata": {},
   "outputs": [
    {
     "data": {
      "text/plain": [
       "TAIL_NUM\n",
       "NaN       15009\n",
       "N110AN      761\n",
       "N113AN      751\n",
       "N111ZM      748\n",
       "N115NN      740\n",
       "          ...  \n",
       "N197UW        1\n",
       "N986AN        1\n",
       "N315RJ        1\n",
       "N801AW        1\n",
       "N945DN        1\n",
       "Name: count, Length: 2646, dtype: int64"
      ]
     },
     "execution_count": 125,
     "metadata": {},
     "output_type": "execute_result"
    }
   ],
   "source": [
    "df_3[\"TAIL_NUM\"].value_counts(dropna=False)"
   ]
  },
  {
   "cell_type": "code",
   "execution_count": 126,
   "metadata": {},
   "outputs": [],
   "source": [
    "valor_nulo = \"NULO\""
   ]
  },
  {
   "cell_type": "code",
   "execution_count": 127,
   "metadata": {},
   "outputs": [],
   "source": [
    "df_3[\"TAIL_NUM\"].fillna(value=valor_nulo, inplace=True)"
   ]
  },
  {
   "cell_type": "code",
   "execution_count": 128,
   "metadata": {},
   "outputs": [],
   "source": [
    "df_3[\"AEROLINEA\"].fillna(value=valor_nulo, inplace=True)"
   ]
  },
  {
   "cell_type": "markdown",
   "metadata": {},
   "source": [
    "##### Numérica"
   ]
  },
  {
   "cell_type": "code",
   "execution_count": 129,
   "metadata": {},
   "outputs": [
    {
     "data": {
      "text/plain": [
       "CRS_DEP_TIME            0\n",
       "TAXI_OUT            17511\n",
       "CRS_ARR_TIME            0\n",
       "ARR_DEL15               0\n",
       "CRS_ELAPSED_TIME        0\n",
       "DISTANCE                0\n",
       "dtype: int64"
      ]
     },
     "execution_count": 129,
     "metadata": {},
     "output_type": "execute_result"
    }
   ],
   "source": [
    "df_3.select_dtypes(exclude=[\"object\"]).isnull().sum()"
   ]
  },
  {
   "cell_type": "code",
   "execution_count": 130,
   "metadata": {},
   "outputs": [],
   "source": [
    "df_3[\"TAXI_OUT\"].fillna(value= -1, inplace=True)"
   ]
  },
  {
   "cell_type": "markdown",
   "metadata": {},
   "source": [
    "# Eliminar las variables con poca varianza"
   ]
  },
  {
   "cell_type": "code",
   "execution_count": 131,
   "metadata": {},
   "outputs": [],
   "source": [
    "non_variance_features = [\"DEST\", \"DEST_CITY_NAME\", \"DEST_STATE_NM\"]"
   ]
  },
  {
   "cell_type": "code",
   "execution_count": 132,
   "metadata": {},
   "outputs": [],
   "source": [
    "df_3.drop(non_variance_features, axis=1, inplace=True)"
   ]
  },
  {
   "cell_type": "markdown",
   "metadata": {},
   "source": [
    "## Variables de fechas"
   ]
  },
  {
   "cell_type": "code",
   "execution_count": 133,
   "metadata": {},
   "outputs": [],
   "source": [
    "df_3[\"FL_DATE\"] = pd.to_datetime(df_3[\"FL_DATE\"])"
   ]
  },
  {
   "cell_type": "code",
   "execution_count": 134,
   "metadata": {},
   "outputs": [
    {
     "data": {
      "text/plain": [
       "0         2018\n",
       "1         2018\n",
       "2         2018\n",
       "3         2018\n",
       "4         2018\n",
       "          ... \n",
       "250147    2018\n",
       "250148    2018\n",
       "250149    2018\n",
       "250150    2018\n",
       "250151    2018\n",
       "Name: FL_DATE, Length: 250152, dtype: int32"
      ]
     },
     "execution_count": 134,
     "metadata": {},
     "output_type": "execute_result"
    }
   ],
   "source": [
    "df_3[\"FL_DATE\"].dt.year"
   ]
  },
  {
   "cell_type": "code",
   "execution_count": 135,
   "metadata": {},
   "outputs": [],
   "source": [
    "df_3[\"Year\"] = df_3[\"FL_DATE\"].dt.year\n",
    "df_3[\"Season\"] = df_3[\"FL_DATE\"].dt.quarter\n",
    "df_3[\"Month\"] = df_3[\"FL_DATE\"].dt.month\n",
    "df_3[\"Day\"] = df_3[\"FL_DATE\"].dt.day\n",
    "df_3[\"Week\"] = df_3[\"FL_DATE\"].dt.isocalendar().week\n",
    "df_3[\"Weekday\"] = df_3[\"FL_DATE\"].dt.weekday"
   ]
  },
  {
   "cell_type": "code",
   "execution_count": 136,
   "metadata": {},
   "outputs": [
    {
     "data": {
      "text/plain": [
       "Weekday\n",
       "0    37183\n",
       "4    36848\n",
       "3    36679\n",
       "6    36288\n",
       "1    35945\n",
       "2    35443\n",
       "5    31766\n",
       "Name: count, dtype: int64"
      ]
     },
     "execution_count": 136,
     "metadata": {},
     "output_type": "execute_result"
    }
   ],
   "source": [
    "df_3[\"Weekday\"].value_counts() #Los días 5 y 6 son los findes siendo el 0 los lunes."
   ]
  },
  {
   "cell_type": "code",
   "execution_count": 137,
   "metadata": {},
   "outputs": [
    {
     "data": {
      "text/html": [
       "<div>\n",
       "<style scoped>\n",
       "    .dataframe tbody tr th:only-of-type {\n",
       "        vertical-align: middle;\n",
       "    }\n",
       "\n",
       "    .dataframe tbody tr th {\n",
       "        vertical-align: top;\n",
       "    }\n",
       "\n",
       "    .dataframe thead tr th {\n",
       "        text-align: left;\n",
       "    }\n",
       "\n",
       "    .dataframe thead tr:last-of-type th {\n",
       "        text-align: right;\n",
       "    }\n",
       "</style>\n",
       "<table border=\"1\" class=\"dataframe\">\n",
       "  <thead>\n",
       "    <tr>\n",
       "      <th></th>\n",
       "      <th>count</th>\n",
       "      <th>sum</th>\n",
       "      <th>mean</th>\n",
       "    </tr>\n",
       "    <tr>\n",
       "      <th></th>\n",
       "      <th>ARR_DEL15</th>\n",
       "      <th>ARR_DEL15</th>\n",
       "      <th>ARR_DEL15</th>\n",
       "    </tr>\n",
       "    <tr>\n",
       "      <th>Weekday</th>\n",
       "      <th></th>\n",
       "      <th></th>\n",
       "      <th></th>\n",
       "    </tr>\n",
       "  </thead>\n",
       "  <tbody>\n",
       "    <tr>\n",
       "      <th>4</th>\n",
       "      <td>36848</td>\n",
       "      <td>8729.0</td>\n",
       "      <td>0.236892</td>\n",
       "    </tr>\n",
       "    <tr>\n",
       "      <th>3</th>\n",
       "      <td>36679</td>\n",
       "      <td>8512.0</td>\n",
       "      <td>0.232067</td>\n",
       "    </tr>\n",
       "    <tr>\n",
       "      <th>0</th>\n",
       "      <td>37183</td>\n",
       "      <td>7811.0</td>\n",
       "      <td>0.210069</td>\n",
       "    </tr>\n",
       "    <tr>\n",
       "      <th>2</th>\n",
       "      <td>35443</td>\n",
       "      <td>7358.0</td>\n",
       "      <td>0.207601</td>\n",
       "    </tr>\n",
       "    <tr>\n",
       "      <th>6</th>\n",
       "      <td>36288</td>\n",
       "      <td>7326.0</td>\n",
       "      <td>0.201885</td>\n",
       "    </tr>\n",
       "    <tr>\n",
       "      <th>1</th>\n",
       "      <td>35945</td>\n",
       "      <td>7255.0</td>\n",
       "      <td>0.201836</td>\n",
       "    </tr>\n",
       "    <tr>\n",
       "      <th>5</th>\n",
       "      <td>31766</td>\n",
       "      <td>5641.0</td>\n",
       "      <td>0.177580</td>\n",
       "    </tr>\n",
       "  </tbody>\n",
       "</table>\n",
       "</div>"
      ],
      "text/plain": [
       "            count       sum      mean\n",
       "        ARR_DEL15 ARR_DEL15 ARR_DEL15\n",
       "Weekday                              \n",
       "4           36848    8729.0  0.236892\n",
       "3           36679    8512.0  0.232067\n",
       "0           37183    7811.0  0.210069\n",
       "2           35443    7358.0  0.207601\n",
       "6           36288    7326.0  0.201885\n",
       "1           35945    7255.0  0.201836\n",
       "5           31766    5641.0  0.177580"
      ]
     },
     "execution_count": 137,
     "metadata": {},
     "output_type": "execute_result"
    }
   ],
   "source": [
    "df_3.pivot_table(index=\"Weekday\", values=TARGET, aggfunc=[\"count\", \"sum\", \"mean\"]).sort_values(by=[(\"mean\", \"ARR_DEL15\")], ascending=False).head(10)"
   ]
  },
  {
   "cell_type": "code",
   "execution_count": 138,
   "metadata": {},
   "outputs": [],
   "source": [
    "df_3.drop(\"FL_DATE\", axis=1, inplace=True)"
   ]
  },
  {
   "cell_type": "markdown",
   "metadata": {},
   "source": [
    "## Tratamiento de categóricas"
   ]
  },
  {
   "cell_type": "code",
   "execution_count": 139,
   "metadata": {},
   "outputs": [
    {
     "data": {
      "text/html": [
       "<div>\n",
       "<style scoped>\n",
       "    .dataframe tbody tr th:only-of-type {\n",
       "        vertical-align: middle;\n",
       "    }\n",
       "\n",
       "    .dataframe tbody tr th {\n",
       "        vertical-align: top;\n",
       "    }\n",
       "\n",
       "    .dataframe thead th {\n",
       "        text-align: right;\n",
       "    }\n",
       "</style>\n",
       "<table border=\"1\" class=\"dataframe\">\n",
       "  <thead>\n",
       "    <tr style=\"text-align: right;\">\n",
       "      <th></th>\n",
       "      <th>count</th>\n",
       "      <th>unique</th>\n",
       "      <th>top</th>\n",
       "      <th>freq</th>\n",
       "    </tr>\n",
       "  </thead>\n",
       "  <tbody>\n",
       "    <tr>\n",
       "      <th>TAIL_NUM</th>\n",
       "      <td>250152</td>\n",
       "      <td>2646</td>\n",
       "      <td>NULO</td>\n",
       "      <td>15009</td>\n",
       "    </tr>\n",
       "    <tr>\n",
       "      <th>ORIGIN</th>\n",
       "      <td>250152</td>\n",
       "      <td>72</td>\n",
       "      <td>LAX</td>\n",
       "      <td>25345</td>\n",
       "    </tr>\n",
       "    <tr>\n",
       "      <th>ORIGIN_CITY_NAME</th>\n",
       "      <td>250152</td>\n",
       "      <td>70</td>\n",
       "      <td>Los Angeles, CA</td>\n",
       "      <td>25345</td>\n",
       "    </tr>\n",
       "    <tr>\n",
       "      <th>ORIGIN_STATE_NM</th>\n",
       "      <td>250152</td>\n",
       "      <td>32</td>\n",
       "      <td>California</td>\n",
       "      <td>51137</td>\n",
       "    </tr>\n",
       "    <tr>\n",
       "      <th>AEROLINEA</th>\n",
       "      <td>250152.0</td>\n",
       "      <td>12.0</td>\n",
       "      <td>20409.0</td>\n",
       "      <td>78587.0</td>\n",
       "    </tr>\n",
       "  </tbody>\n",
       "</table>\n",
       "</div>"
      ],
      "text/plain": [
       "                     count unique              top     freq\n",
       "TAIL_NUM            250152   2646             NULO    15009\n",
       "ORIGIN              250152     72              LAX    25345\n",
       "ORIGIN_CITY_NAME    250152     70  Los Angeles, CA    25345\n",
       "ORIGIN_STATE_NM     250152     32       California    51137\n",
       "AEROLINEA         250152.0   12.0          20409.0  78587.0"
      ]
     },
     "execution_count": 139,
     "metadata": {},
     "output_type": "execute_result"
    }
   ],
   "source": [
    "df_3.select_dtypes(include=\"object\").describe().T"
   ]
  },
  {
   "cell_type": "code",
   "execution_count": 140,
   "metadata": {},
   "outputs": [],
   "source": [
    "#TAIL_NUM: FREQUENCY ENCODING / OHE después de agrupar en otros minoritarios\n",
    "#ORIGIN: OHE\n",
    "#ORIGIN_CITY_NAME: OHE\n",
    "#ORIGIN_STATE_NM: OHE\n",
    "#AEROLINEA: OHE\n",
    "#UTILIZARÉ OHE EN TODAS AQUELLAS VARIABLES QUE TENGAN MENOS DE 100 ETIQUETAS DE PRIMERA OPCIÓN."
   ]
  },
  {
   "cell_type": "markdown",
   "metadata": {},
   "source": [
    "#### TAIL_NUM: FE"
   ]
  },
  {
   "cell_type": "code",
   "execution_count": 141,
   "metadata": {},
   "outputs": [
    {
     "data": {
      "text/html": [
       "<div>\n",
       "<style scoped>\n",
       "    .dataframe tbody tr th:only-of-type {\n",
       "        vertical-align: middle;\n",
       "    }\n",
       "\n",
       "    .dataframe tbody tr th {\n",
       "        vertical-align: top;\n",
       "    }\n",
       "\n",
       "    .dataframe thead tr th {\n",
       "        text-align: left;\n",
       "    }\n",
       "\n",
       "    .dataframe thead tr:last-of-type th {\n",
       "        text-align: right;\n",
       "    }\n",
       "</style>\n",
       "<table border=\"1\" class=\"dataframe\">\n",
       "  <thead>\n",
       "    <tr>\n",
       "      <th></th>\n",
       "      <th>len</th>\n",
       "      <th>sum</th>\n",
       "      <th>mean</th>\n",
       "    </tr>\n",
       "    <tr>\n",
       "      <th></th>\n",
       "      <th>ARR_DEL15</th>\n",
       "      <th>ARR_DEL15</th>\n",
       "      <th>ARR_DEL15</th>\n",
       "    </tr>\n",
       "    <tr>\n",
       "      <th>TAIL_NUM</th>\n",
       "      <th></th>\n",
       "      <th></th>\n",
       "      <th></th>\n",
       "    </tr>\n",
       "  </thead>\n",
       "  <tbody>\n",
       "    <tr>\n",
       "      <th>NULO</th>\n",
       "      <td>15009</td>\n",
       "      <td>3109.0</td>\n",
       "      <td>0.207142</td>\n",
       "    </tr>\n",
       "    <tr>\n",
       "      <th>N110AN</th>\n",
       "      <td>761</td>\n",
       "      <td>164.0</td>\n",
       "      <td>0.215506</td>\n",
       "    </tr>\n",
       "    <tr>\n",
       "      <th>N113AN</th>\n",
       "      <td>751</td>\n",
       "      <td>134.0</td>\n",
       "      <td>0.178429</td>\n",
       "    </tr>\n",
       "    <tr>\n",
       "      <th>N111ZM</th>\n",
       "      <td>748</td>\n",
       "      <td>162.0</td>\n",
       "      <td>0.216578</td>\n",
       "    </tr>\n",
       "    <tr>\n",
       "      <th>N109NN</th>\n",
       "      <td>740</td>\n",
       "      <td>118.0</td>\n",
       "      <td>0.159459</td>\n",
       "    </tr>\n",
       "    <tr>\n",
       "      <th>N115NN</th>\n",
       "      <td>740</td>\n",
       "      <td>121.0</td>\n",
       "      <td>0.163514</td>\n",
       "    </tr>\n",
       "    <tr>\n",
       "      <th>N112AN</th>\n",
       "      <td>737</td>\n",
       "      <td>151.0</td>\n",
       "      <td>0.204885</td>\n",
       "    </tr>\n",
       "    <tr>\n",
       "      <th>N116AN</th>\n",
       "      <td>723</td>\n",
       "      <td>147.0</td>\n",
       "      <td>0.203320</td>\n",
       "    </tr>\n",
       "    <tr>\n",
       "      <th>N105NN</th>\n",
       "      <td>709</td>\n",
       "      <td>120.0</td>\n",
       "      <td>0.169252</td>\n",
       "    </tr>\n",
       "    <tr>\n",
       "      <th>N102NN</th>\n",
       "      <td>701</td>\n",
       "      <td>125.0</td>\n",
       "      <td>0.178317</td>\n",
       "    </tr>\n",
       "  </tbody>\n",
       "</table>\n",
       "</div>"
      ],
      "text/plain": [
       "               len       sum      mean\n",
       "         ARR_DEL15 ARR_DEL15 ARR_DEL15\n",
       "TAIL_NUM                              \n",
       "NULO         15009    3109.0  0.207142\n",
       "N110AN         761     164.0  0.215506\n",
       "N113AN         751     134.0  0.178429\n",
       "N111ZM         748     162.0  0.216578\n",
       "N109NN         740     118.0  0.159459\n",
       "N115NN         740     121.0  0.163514\n",
       "N112AN         737     151.0  0.204885\n",
       "N116AN         723     147.0  0.203320\n",
       "N105NN         709     120.0  0.169252\n",
       "N102NN         701     125.0  0.178317"
      ]
     },
     "execution_count": 141,
     "metadata": {},
     "output_type": "execute_result"
    }
   ],
   "source": [
    "df_3.pivot_table(index=\"TAIL_NUM\", values=TARGET, aggfunc=[len, \"sum\", \"mean\"]).sort_values(by=[(\"len\", \"ARR_DEL15\")], ascending=False).head(10)"
   ]
  },
  {
   "cell_type": "code",
   "execution_count": 142,
   "metadata": {},
   "outputs": [],
   "source": [
    "df_tail_num = pd.DataFrame(df_3[\"TAIL_NUM\"].value_counts())"
   ]
  },
  {
   "cell_type": "code",
   "execution_count": 143,
   "metadata": {},
   "outputs": [],
   "source": [
    "df_tail_num.columns = [\"TAIL_NUM_COUNT\"]"
   ]
  },
  {
   "cell_type": "code",
   "execution_count": 144,
   "metadata": {},
   "outputs": [],
   "source": [
    "df_tail_num [\"TAIL_NUM_2\"]= df_tail_num.index"
   ]
  },
  {
   "cell_type": "code",
   "execution_count": 145,
   "metadata": {},
   "outputs": [
    {
     "data": {
      "text/html": [
       "<div>\n",
       "<style scoped>\n",
       "    .dataframe tbody tr th:only-of-type {\n",
       "        vertical-align: middle;\n",
       "    }\n",
       "\n",
       "    .dataframe tbody tr th {\n",
       "        vertical-align: top;\n",
       "    }\n",
       "\n",
       "    .dataframe thead th {\n",
       "        text-align: right;\n",
       "    }\n",
       "</style>\n",
       "<table border=\"1\" class=\"dataframe\">\n",
       "  <thead>\n",
       "    <tr style=\"text-align: right;\">\n",
       "      <th></th>\n",
       "      <th>TAIL_NUM_COUNT</th>\n",
       "      <th>TAIL_NUM_2</th>\n",
       "    </tr>\n",
       "    <tr>\n",
       "      <th>TAIL_NUM</th>\n",
       "      <th></th>\n",
       "      <th></th>\n",
       "    </tr>\n",
       "  </thead>\n",
       "  <tbody>\n",
       "    <tr>\n",
       "      <th>NULO</th>\n",
       "      <td>15009</td>\n",
       "      <td>NULO</td>\n",
       "    </tr>\n",
       "    <tr>\n",
       "      <th>N110AN</th>\n",
       "      <td>761</td>\n",
       "      <td>N110AN</td>\n",
       "    </tr>\n",
       "    <tr>\n",
       "      <th>N113AN</th>\n",
       "      <td>751</td>\n",
       "      <td>N113AN</td>\n",
       "    </tr>\n",
       "    <tr>\n",
       "      <th>N111ZM</th>\n",
       "      <td>748</td>\n",
       "      <td>N111ZM</td>\n",
       "    </tr>\n",
       "    <tr>\n",
       "      <th>N115NN</th>\n",
       "      <td>740</td>\n",
       "      <td>N115NN</td>\n",
       "    </tr>\n",
       "    <tr>\n",
       "      <th>...</th>\n",
       "      <td>...</td>\n",
       "      <td>...</td>\n",
       "    </tr>\n",
       "    <tr>\n",
       "      <th>N197UW</th>\n",
       "      <td>1</td>\n",
       "      <td>N197UW</td>\n",
       "    </tr>\n",
       "    <tr>\n",
       "      <th>N986AN</th>\n",
       "      <td>1</td>\n",
       "      <td>N986AN</td>\n",
       "    </tr>\n",
       "    <tr>\n",
       "      <th>N315RJ</th>\n",
       "      <td>1</td>\n",
       "      <td>N315RJ</td>\n",
       "    </tr>\n",
       "    <tr>\n",
       "      <th>N801AW</th>\n",
       "      <td>1</td>\n",
       "      <td>N801AW</td>\n",
       "    </tr>\n",
       "    <tr>\n",
       "      <th>N945DN</th>\n",
       "      <td>1</td>\n",
       "      <td>N945DN</td>\n",
       "    </tr>\n",
       "  </tbody>\n",
       "</table>\n",
       "<p>2646 rows × 2 columns</p>\n",
       "</div>"
      ],
      "text/plain": [
       "          TAIL_NUM_COUNT TAIL_NUM_2\n",
       "TAIL_NUM                           \n",
       "NULO               15009       NULO\n",
       "N110AN               761     N110AN\n",
       "N113AN               751     N113AN\n",
       "N111ZM               748     N111ZM\n",
       "N115NN               740     N115NN\n",
       "...                  ...        ...\n",
       "N197UW                 1     N197UW\n",
       "N986AN                 1     N986AN\n",
       "N315RJ                 1     N315RJ\n",
       "N801AW                 1     N801AW\n",
       "N945DN                 1     N945DN\n",
       "\n",
       "[2646 rows x 2 columns]"
      ]
     },
     "execution_count": 145,
     "metadata": {},
     "output_type": "execute_result"
    }
   ],
   "source": [
    "df_tail_num"
   ]
  },
  {
   "cell_type": "code",
   "execution_count": 146,
   "metadata": {},
   "outputs": [],
   "source": [
    "df_3 = df_3.merge(df_tail_num, on = \"TAIL_NUM\")"
   ]
  },
  {
   "cell_type": "code",
   "execution_count": 147,
   "metadata": {},
   "outputs": [],
   "source": [
    "df_3.drop(\"TAIL_NUM\", axis= 1, inplace = True)"
   ]
  },
  {
   "cell_type": "markdown",
   "metadata": {},
   "source": [
    "### OHE"
   ]
  },
  {
   "cell_type": "code",
   "execution_count": 150,
   "metadata": {},
   "outputs": [
    {
     "data": {
      "text/html": [
       "<div>\n",
       "<style scoped>\n",
       "    .dataframe tbody tr th:only-of-type {\n",
       "        vertical-align: middle;\n",
       "    }\n",
       "\n",
       "    .dataframe tbody tr th {\n",
       "        vertical-align: top;\n",
       "    }\n",
       "\n",
       "    .dataframe thead th {\n",
       "        text-align: right;\n",
       "    }\n",
       "</style>\n",
       "<table border=\"1\" class=\"dataframe\">\n",
       "  <thead>\n",
       "    <tr style=\"text-align: right;\">\n",
       "      <th></th>\n",
       "      <th>ABQ</th>\n",
       "      <th>ACK</th>\n",
       "      <th>ATL</th>\n",
       "      <th>AUS</th>\n",
       "      <th>BGR</th>\n",
       "      <th>BNA</th>\n",
       "      <th>BOS</th>\n",
       "      <th>BQN</th>\n",
       "      <th>BTV</th>\n",
       "      <th>BUF</th>\n",
       "      <th>...</th>\n",
       "      <th>SFO</th>\n",
       "      <th>SJC</th>\n",
       "      <th>SJU</th>\n",
       "      <th>SLC</th>\n",
       "      <th>SMF</th>\n",
       "      <th>SNA</th>\n",
       "      <th>SRQ</th>\n",
       "      <th>STT</th>\n",
       "      <th>SYR</th>\n",
       "      <th>TPA</th>\n",
       "    </tr>\n",
       "  </thead>\n",
       "  <tbody>\n",
       "    <tr>\n",
       "      <th>0</th>\n",
       "      <td>False</td>\n",
       "      <td>False</td>\n",
       "      <td>False</td>\n",
       "      <td>False</td>\n",
       "      <td>False</td>\n",
       "      <td>True</td>\n",
       "      <td>False</td>\n",
       "      <td>False</td>\n",
       "      <td>False</td>\n",
       "      <td>False</td>\n",
       "      <td>...</td>\n",
       "      <td>False</td>\n",
       "      <td>False</td>\n",
       "      <td>False</td>\n",
       "      <td>False</td>\n",
       "      <td>False</td>\n",
       "      <td>False</td>\n",
       "      <td>False</td>\n",
       "      <td>False</td>\n",
       "      <td>False</td>\n",
       "      <td>False</td>\n",
       "    </tr>\n",
       "    <tr>\n",
       "      <th>1</th>\n",
       "      <td>False</td>\n",
       "      <td>False</td>\n",
       "      <td>False</td>\n",
       "      <td>False</td>\n",
       "      <td>False</td>\n",
       "      <td>False</td>\n",
       "      <td>False</td>\n",
       "      <td>False</td>\n",
       "      <td>False</td>\n",
       "      <td>False</td>\n",
       "      <td>...</td>\n",
       "      <td>False</td>\n",
       "      <td>False</td>\n",
       "      <td>False</td>\n",
       "      <td>False</td>\n",
       "      <td>False</td>\n",
       "      <td>False</td>\n",
       "      <td>False</td>\n",
       "      <td>False</td>\n",
       "      <td>False</td>\n",
       "      <td>False</td>\n",
       "    </tr>\n",
       "    <tr>\n",
       "      <th>2</th>\n",
       "      <td>False</td>\n",
       "      <td>False</td>\n",
       "      <td>False</td>\n",
       "      <td>False</td>\n",
       "      <td>False</td>\n",
       "      <td>False</td>\n",
       "      <td>True</td>\n",
       "      <td>False</td>\n",
       "      <td>False</td>\n",
       "      <td>False</td>\n",
       "      <td>...</td>\n",
       "      <td>False</td>\n",
       "      <td>False</td>\n",
       "      <td>False</td>\n",
       "      <td>False</td>\n",
       "      <td>False</td>\n",
       "      <td>False</td>\n",
       "      <td>False</td>\n",
       "      <td>False</td>\n",
       "      <td>False</td>\n",
       "      <td>False</td>\n",
       "    </tr>\n",
       "    <tr>\n",
       "      <th>3</th>\n",
       "      <td>False</td>\n",
       "      <td>False</td>\n",
       "      <td>False</td>\n",
       "      <td>False</td>\n",
       "      <td>False</td>\n",
       "      <td>False</td>\n",
       "      <td>False</td>\n",
       "      <td>False</td>\n",
       "      <td>False</td>\n",
       "      <td>False</td>\n",
       "      <td>...</td>\n",
       "      <td>False</td>\n",
       "      <td>False</td>\n",
       "      <td>False</td>\n",
       "      <td>False</td>\n",
       "      <td>False</td>\n",
       "      <td>False</td>\n",
       "      <td>False</td>\n",
       "      <td>False</td>\n",
       "      <td>False</td>\n",
       "      <td>False</td>\n",
       "    </tr>\n",
       "    <tr>\n",
       "      <th>4</th>\n",
       "      <td>False</td>\n",
       "      <td>False</td>\n",
       "      <td>False</td>\n",
       "      <td>False</td>\n",
       "      <td>False</td>\n",
       "      <td>False</td>\n",
       "      <td>False</td>\n",
       "      <td>False</td>\n",
       "      <td>False</td>\n",
       "      <td>False</td>\n",
       "      <td>...</td>\n",
       "      <td>False</td>\n",
       "      <td>False</td>\n",
       "      <td>False</td>\n",
       "      <td>False</td>\n",
       "      <td>False</td>\n",
       "      <td>False</td>\n",
       "      <td>False</td>\n",
       "      <td>False</td>\n",
       "      <td>False</td>\n",
       "      <td>False</td>\n",
       "    </tr>\n",
       "    <tr>\n",
       "      <th>...</th>\n",
       "      <td>...</td>\n",
       "      <td>...</td>\n",
       "      <td>...</td>\n",
       "      <td>...</td>\n",
       "      <td>...</td>\n",
       "      <td>...</td>\n",
       "      <td>...</td>\n",
       "      <td>...</td>\n",
       "      <td>...</td>\n",
       "      <td>...</td>\n",
       "      <td>...</td>\n",
       "      <td>...</td>\n",
       "      <td>...</td>\n",
       "      <td>...</td>\n",
       "      <td>...</td>\n",
       "      <td>...</td>\n",
       "      <td>...</td>\n",
       "      <td>...</td>\n",
       "      <td>...</td>\n",
       "      <td>...</td>\n",
       "      <td>...</td>\n",
       "    </tr>\n",
       "    <tr>\n",
       "      <th>250147</th>\n",
       "      <td>False</td>\n",
       "      <td>False</td>\n",
       "      <td>False</td>\n",
       "      <td>False</td>\n",
       "      <td>False</td>\n",
       "      <td>False</td>\n",
       "      <td>False</td>\n",
       "      <td>False</td>\n",
       "      <td>False</td>\n",
       "      <td>False</td>\n",
       "      <td>...</td>\n",
       "      <td>False</td>\n",
       "      <td>False</td>\n",
       "      <td>False</td>\n",
       "      <td>False</td>\n",
       "      <td>False</td>\n",
       "      <td>False</td>\n",
       "      <td>False</td>\n",
       "      <td>False</td>\n",
       "      <td>False</td>\n",
       "      <td>False</td>\n",
       "    </tr>\n",
       "    <tr>\n",
       "      <th>250148</th>\n",
       "      <td>False</td>\n",
       "      <td>False</td>\n",
       "      <td>False</td>\n",
       "      <td>False</td>\n",
       "      <td>False</td>\n",
       "      <td>False</td>\n",
       "      <td>False</td>\n",
       "      <td>False</td>\n",
       "      <td>False</td>\n",
       "      <td>False</td>\n",
       "      <td>...</td>\n",
       "      <td>False</td>\n",
       "      <td>False</td>\n",
       "      <td>False</td>\n",
       "      <td>False</td>\n",
       "      <td>False</td>\n",
       "      <td>False</td>\n",
       "      <td>False</td>\n",
       "      <td>False</td>\n",
       "      <td>False</td>\n",
       "      <td>False</td>\n",
       "    </tr>\n",
       "    <tr>\n",
       "      <th>250149</th>\n",
       "      <td>False</td>\n",
       "      <td>False</td>\n",
       "      <td>False</td>\n",
       "      <td>False</td>\n",
       "      <td>False</td>\n",
       "      <td>False</td>\n",
       "      <td>False</td>\n",
       "      <td>False</td>\n",
       "      <td>False</td>\n",
       "      <td>False</td>\n",
       "      <td>...</td>\n",
       "      <td>False</td>\n",
       "      <td>False</td>\n",
       "      <td>False</td>\n",
       "      <td>False</td>\n",
       "      <td>False</td>\n",
       "      <td>False</td>\n",
       "      <td>False</td>\n",
       "      <td>False</td>\n",
       "      <td>False</td>\n",
       "      <td>False</td>\n",
       "    </tr>\n",
       "    <tr>\n",
       "      <th>250150</th>\n",
       "      <td>False</td>\n",
       "      <td>False</td>\n",
       "      <td>False</td>\n",
       "      <td>False</td>\n",
       "      <td>False</td>\n",
       "      <td>False</td>\n",
       "      <td>False</td>\n",
       "      <td>False</td>\n",
       "      <td>False</td>\n",
       "      <td>False</td>\n",
       "      <td>...</td>\n",
       "      <td>False</td>\n",
       "      <td>False</td>\n",
       "      <td>False</td>\n",
       "      <td>False</td>\n",
       "      <td>False</td>\n",
       "      <td>False</td>\n",
       "      <td>False</td>\n",
       "      <td>False</td>\n",
       "      <td>False</td>\n",
       "      <td>False</td>\n",
       "    </tr>\n",
       "    <tr>\n",
       "      <th>250151</th>\n",
       "      <td>False</td>\n",
       "      <td>False</td>\n",
       "      <td>False</td>\n",
       "      <td>False</td>\n",
       "      <td>False</td>\n",
       "      <td>False</td>\n",
       "      <td>False</td>\n",
       "      <td>False</td>\n",
       "      <td>False</td>\n",
       "      <td>False</td>\n",
       "      <td>...</td>\n",
       "      <td>False</td>\n",
       "      <td>False</td>\n",
       "      <td>False</td>\n",
       "      <td>False</td>\n",
       "      <td>False</td>\n",
       "      <td>False</td>\n",
       "      <td>False</td>\n",
       "      <td>False</td>\n",
       "      <td>False</td>\n",
       "      <td>False</td>\n",
       "    </tr>\n",
       "  </tbody>\n",
       "</table>\n",
       "<p>250152 rows × 72 columns</p>\n",
       "</div>"
      ],
      "text/plain": [
       "          ABQ    ACK    ATL    AUS    BGR    BNA    BOS    BQN    BTV    BUF  \\\n",
       "0       False  False  False  False  False   True  False  False  False  False   \n",
       "1       False  False  False  False  False  False  False  False  False  False   \n",
       "2       False  False  False  False  False  False   True  False  False  False   \n",
       "3       False  False  False  False  False  False  False  False  False  False   \n",
       "4       False  False  False  False  False  False  False  False  False  False   \n",
       "...       ...    ...    ...    ...    ...    ...    ...    ...    ...    ...   \n",
       "250147  False  False  False  False  False  False  False  False  False  False   \n",
       "250148  False  False  False  False  False  False  False  False  False  False   \n",
       "250149  False  False  False  False  False  False  False  False  False  False   \n",
       "250150  False  False  False  False  False  False  False  False  False  False   \n",
       "250151  False  False  False  False  False  False  False  False  False  False   \n",
       "\n",
       "        ...    SFO    SJC    SJU    SLC    SMF    SNA    SRQ    STT    SYR  \\\n",
       "0       ...  False  False  False  False  False  False  False  False  False   \n",
       "1       ...  False  False  False  False  False  False  False  False  False   \n",
       "2       ...  False  False  False  False  False  False  False  False  False   \n",
       "3       ...  False  False  False  False  False  False  False  False  False   \n",
       "4       ...  False  False  False  False  False  False  False  False  False   \n",
       "...     ...    ...    ...    ...    ...    ...    ...    ...    ...    ...   \n",
       "250147  ...  False  False  False  False  False  False  False  False  False   \n",
       "250148  ...  False  False  False  False  False  False  False  False  False   \n",
       "250149  ...  False  False  False  False  False  False  False  False  False   \n",
       "250150  ...  False  False  False  False  False  False  False  False  False   \n",
       "250151  ...  False  False  False  False  False  False  False  False  False   \n",
       "\n",
       "          TPA  \n",
       "0       False  \n",
       "1       False  \n",
       "2       False  \n",
       "3       False  \n",
       "4       False  \n",
       "...       ...  \n",
       "250147  False  \n",
       "250148  False  \n",
       "250149  False  \n",
       "250150  False  \n",
       "250151  False  \n",
       "\n",
       "[250152 rows x 72 columns]"
      ]
     },
     "execution_count": 150,
     "metadata": {},
     "output_type": "execute_result"
    }
   ],
   "source": [
    "pd.get_dummies(df_3[\"ORIGIN\"])"
   ]
  },
  {
   "cell_type": "code",
   "execution_count": null,
   "metadata": {},
   "outputs": [],
   "source": []
  }
 ],
 "metadata": {
  "kernelspec": {
   "display_name": "Python 3",
   "language": "python",
   "name": "python3"
  },
  "language_info": {
   "codemirror_mode": {
    "name": "ipython",
    "version": 3
   },
   "file_extension": ".py",
   "mimetype": "text/x-python",
   "name": "python",
   "nbconvert_exporter": "python",
   "pygments_lexer": "ipython3",
   "version": "3.12.0"
  }
 },
 "nbformat": 4,
 "nbformat_minor": 2
}
